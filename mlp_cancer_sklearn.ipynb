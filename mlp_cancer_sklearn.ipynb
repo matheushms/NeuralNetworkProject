{
 "cells": [
  {
   "cell_type": "code",
   "execution_count": 59,
   "metadata": {},
   "outputs": [],
   "source": [
    "import numpy as np\n",
    "import sklearn.neural_network as sknn\n",
    "from sklearn.preprocessing import StandardScaler\n",
    "import pandas as pd\n",
    "from sklearn.model_selection import train_test_split  \n",
    "import matplotlib.pyplot as plt\n",
    "from pandas import DataFrame, read_csv\n"
   ]
  },
  {
   "cell_type": "markdown",
   "metadata": {},
   "source": [
    "#### Definição de Hiperparamêtros"
   ]
  },
  {
   "cell_type": "code",
   "execution_count": 60,
   "metadata": {},
   "outputs": [],
   "source": [
    "n_inputs = 9 ## número de entradas da mlp\n",
    "n_hidden1 = 10 ## número de neurônios na camada escondida\n",
    "n_outputs = 1 ## número de neurônios na camada de saída\n",
    "alpha = 0.02 ## tamanho do passo"
   ]
  },
  {
   "cell_type": "markdown",
   "metadata": {},
   "source": [
    "#### Organização do dataset entre conjunto de treinamento e teste"
   ]
  },
  {
   "cell_type": "code",
   "execution_count": 61,
   "metadata": {},
   "outputs": [
    {
     "name": "stderr",
     "output_type": "stream",
     "text": [
      "C:\\Users\\mathe\\Anaconda3\\lib\\site-packages\\ipykernel_launcher.py:4: FutureWarning: Method .as_matrix will be removed in a future version. Use .values instead.\n",
      "  after removing the cwd from sys.path.\n",
      "C:\\Users\\mathe\\Anaconda3\\lib\\site-packages\\ipykernel_launcher.py:5: FutureWarning: Method .as_matrix will be removed in a future version. Use .values instead.\n",
      "  \"\"\"\n"
     ]
    }
   ],
   "source": [
    "##Carregamento do Dataset de Cancer e divisão entre caracteristicas e label\n",
    "data = pd.read_csv('datasets/cancer_dataset_treated.csv',header=None,dtype=float,sep=',')\n",
    "\n",
    "X = data.iloc[:,0:9].as_matrix()\n",
    "y = data.iloc[:,9].as_matrix()\n",
    "\n",
    "##Separação entre conjunto treinamento e teste\n",
    "X_train, X_test, y_train, y_test = train_test_split(X, y, test_size = 0.25)\n",
    "scaler = StandardScaler()  \n",
    "scaler.fit(X_train)\n",
    "pd.read_excel\n",
    "X_train = scaler.transform(X_train)  \n",
    "X_test = scaler.transform(X_test)  \n"
   ]
  },
  {
   "cell_type": "markdown",
   "metadata": {},
   "source": [
    "#### Definição da MLP e treinamento "
   ]
  },
  {
   "cell_type": "code",
   "execution_count": 66,
   "metadata": {},
   "outputs": [],
   "source": [
    "mlp = sknn.MLPRegressor(hidden_layer_sizes=(n_inputs, n_hidden1, n_outputs), max_iter=1000, learning_rate_init=alpha,\n",
    "                    validation_fraction=0.3, n_iter_no_change=100, activation='relu')\n",
    "fit = mlp.fit(X_train, y_train)"
   ]
  },
  {
   "cell_type": "code",
   "execution_count": 77,
   "metadata": {},
   "outputs": [],
   "source": [
    "def confusion_matrix(predictions,y_test):\n",
    "    tp,fp,fn,tn = (0,0,0,0)\n",
    "    for i in range(0,len(predictions)):\n",
    "        p = predictions[i]\n",
    "        y = y_test[i]\n",
    "        if(p==1 and y==1):\n",
    "            tp = tp+1\n",
    "        elif(p==0 and y==1):\n",
    "            fn = fn+1\n",
    "        elif(p==1 and y==0):\n",
    "            fp = fp+1\n",
    "        else:\n",
    "            tn = tn+1\n",
    "    return tp,fn,fp,tn\n",
    "def sensibilidade(tp,fn,fp,tn):\n",
    "    return tp/(tp+fn)\n",
    "    \n",
    "def acuracia(tp,fn,fp,tn):\n",
    "    return (tp+tn)/(tp+tn+fp+fn)"
   ]
  },
  {
   "cell_type": "code",
   "execution_count": 78,
   "metadata": {},
   "outputs": [
    {
     "name": "stderr",
     "output_type": "stream",
     "text": [
      "No handles with labels found to put in legend.\n"
     ]
    },
    {
     "name": "stdout",
     "output_type": "stream",
     "text": [
      "0.05142857142857143\n"
     ]
    },
    {
     "data": {
      "text/plain": [
       "<matplotlib.legend.Legend at 0x161fcb55fd0>"
      ]
     },
     "execution_count": 78,
     "metadata": {},
     "output_type": "execute_result"
    },
    {
     "data": {
      "image/png": "[encoded data removed]",
      "text/plain": [
       "<Figure size 432x288 with 1 Axes>"
      ]
     },
     "metadata": {
      "needs_background": "light"
     },
     "output_type": "display_data"
    }
   ],
   "source": [
    "predictions = mlp.predict(X_test) \n",
    "new_predictions = []\n",
    "for prediction in predictions:\n",
    "    if(prediction>0.5):\n",
    "        new_predictions.append(1)\n",
    "    else:\n",
    "        new_predictions.append(0)\n",
    "predictions = new_predictions\n",
    "\n",
    "tp,fn,fp,tn = confusion_matrix(predictions,y_test)\n",
    "sens = sensibilidade(tp,fn,fp,tn)\n",
    "acc = acuracia(tp,fn,fp,tn)\n",
    "\n",
    "\n",
    "MSE = np.sum((predictions - y_test)**2)/len(y_test)\n",
    "print('MSE:',MSE,'Sensibilidade:',)\n",
    "\n",
    "\n",
    "\n",
    "\n",
    "plt.plot(fit.loss_curve_)\n",
    "##plt.plot(y_test, label='Real')\n",
    "##plt.plot(predictions, label='Predicted')\n",
    "plt.legend()\n",
    "#plt.plot(y_test - predictions)\n",
    "#for i in range(0,len(predictions)):\n",
    "# print(predictions[i],y_test[i])"
   ]
  },
  {
   "cell_type": "code",
   "execution_count": null,
   "metadata": {},
   "outputs": [],
   "source": []
  },
  {
   "cell_type": "code",
   "execution_count": null,
   "metadata": {},
   "outputs": [],
   "source": []
  }
 ],
 "metadata": {
  "kernelspec": {
   "display_name": "Python 3",
   "language": "python",
   "name": "python3"
  },
  "language_info": {
   "codemirror_mode": {
    "name": "ipython",
    "version": 3
   },
   "file_extension": ".py",
   "mimetype": "text/x-python",
   "name": "python",
   "nbconvert_exporter": "python",
   "pygments_lexer": "ipython3",
   "version": "3.7.3"
  }
 },
 "nbformat": 4,
 "nbformat_minor": 4
}
